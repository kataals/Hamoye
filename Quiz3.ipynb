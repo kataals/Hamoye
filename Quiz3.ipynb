{
 "cells": [
  {
   "cell_type": "markdown",
   "id": "d3645418",
   "metadata": {},
   "source": [
    "### 1. Which confusion matrix represents the model that satisfies the requirements?\n",
    "    TN = True Negative, FP = False Positive, FN = False Negative, TP = True Positive\n",
    "    a. TN = 96%, FP = 4%, FN = 10%, TP = 90%\n",
    "    b. TN = 98%, FP = 2%, FN = 18%, TP = 82%\n",
    "    c. TN = 99%, FP = 1%, FN = 21%, TP = 79%\n",
    "    d. TN = 91%, FP = 9%, FN = 22%, TP = 78%\n",
    "       "
   ]
  },
  {
   "cell_type": "code",
   "execution_count": 1,
   "id": "f3eaf227",
   "metadata": {},
   "outputs": [
    {
     "name": "stdout",
     "output_type": "stream",
     "text": [
      "0.9 0.04 34\n"
     ]
    }
   ],
   "source": [
    "TN = 96\n",
    "FP = 4\n",
    "FN = 10\n",
    "TP = 90\n",
    "\n",
    "Recall = TP/(TP + FN)\n",
    "FPR = FP/(FP + TN)\n",
    "Cost = 6 * FP + FN \n",
    "\n",
    "\n",
    "\n",
    "print(Recall,FPR,Cost)"
   ]
  },
  {
   "cell_type": "code",
   "execution_count": 2,
   "id": "7b0921a4",
   "metadata": {},
   "outputs": [
    {
     "name": "stdout",
     "output_type": "stream",
     "text": [
      "0.82 0.02 30\n"
     ]
    }
   ],
   "source": [
    "TN = 98\n",
    "FP = 2\n",
    "FN = 18\n",
    "TP = 82\n",
    "\n",
    "Recall = TP/(TP + FN)\n",
    "FPR = FP/(FP + TN)\n",
    "Cost = 6 * FP + FN \n",
    "\n",
    "print(Recall,FPR,Cost)"
   ]
  },
  {
   "cell_type": "code",
   "execution_count": 3,
   "id": "50053b48",
   "metadata": {},
   "outputs": [
    {
     "name": "stdout",
     "output_type": "stream",
     "text": [
      "0.79 0.01 27\n"
     ]
    }
   ],
   "source": [
    "TN = 99\n",
    "FP = 1\n",
    "FN = 21\n",
    "TP = 79\n",
    "\n",
    "Recall = TP/(TP + FN)\n",
    "FPR = FP/(FP + TN)\n",
    "Cost = 6 * FP + FN \n",
    "\n",
    "print(Recall,FPR,Cost)"
   ]
  },
  {
   "cell_type": "code",
   "execution_count": 4,
   "id": "ed77f039",
   "metadata": {},
   "outputs": [
    {
     "name": "stdout",
     "output_type": "stream",
     "text": [
      "0.78 0.09 76\n"
     ]
    }
   ],
   "source": [
    "TN = 91\n",
    "FP = 9\n",
    "FN = 22\n",
    "TP = 78\n",
    "\n",
    "Recall = TP/(TP + FN)\n",
    "FPR = FP/(FP + TN)\n",
    "Cost = 6 * FP + FN \n",
    "\n",
    "print(Recall,FPR,Cost)"
   ]
  },
  {
   "cell_type": "markdown",
   "id": "5686b4d2",
   "metadata": {},
   "source": [
    "Since c. and d. have recall rate less than 80% and they don't fit evaluation criteria, they are dropped.\n",
    "Since a. and b. both fit the evaluation, but b. is the most cost effective, b. is chosen."
   ]
  },
  {
   "cell_type": "markdown",
   "id": "fb024c4e",
   "metadata": {},
   "source": [
    "### 2. What is the F1 score of this classifier?"
   ]
  },
  {
   "cell_type": "code",
   "execution_count": 5,
   "id": "92d295ac",
   "metadata": {},
   "outputs": [
    {
     "data": {
      "text/plain": [
       "0.2636"
      ]
     },
     "execution_count": 5,
     "metadata": {},
     "output_type": "execute_result"
    }
   ],
   "source": [
    "TN = 20  \n",
    "FP = 45 \n",
    "FN = 1380\n",
    "TP = 255\n",
    "\n",
    "Recall = TP/(TP + FN)\n",
    "Precision = TP/(TP+FP)\n",
    "F1_Score = (2 * ((Recall*Precision)/(Recall+Precision)))\n",
    "\n",
    "round(F1_Score,4)"
   ]
  },
  {
   "cell_type": "markdown",
   "id": "96949a11",
   "metadata": {},
   "source": [
    "### 14. What is the accuracy on the test set using the random forest classifier? In 4 decimal places."
   ]
  },
  {
   "cell_type": "code",
   "execution_count": 6,
   "id": "22e2163f",
   "metadata": {},
   "outputs": [],
   "source": [
    "import pandas as pd\n",
    "import numpy as np  "
   ]
  },
  {
   "cell_type": "code",
   "execution_count": 7,
   "id": "45958bf1",
   "metadata": {},
   "outputs": [],
   "source": [
    "df = pd.read_csv('Data_for_UCI_named.csv')"
   ]
  },
  {
   "cell_type": "code",
   "execution_count": 8,
   "id": "d7612abe",
   "metadata": {},
   "outputs": [
    {
     "data": {
      "text/plain": [
       "tau1     0\n",
       "tau2     0\n",
       "tau3     0\n",
       "tau4     0\n",
       "p1       0\n",
       "p2       0\n",
       "p3       0\n",
       "p4       0\n",
       "g1       0\n",
       "g2       0\n",
       "g3       0\n",
       "g4       0\n",
       "stab     0\n",
       "stabf    0\n",
       "dtype: int64"
      ]
     },
     "execution_count": 8,
     "metadata": {},
     "output_type": "execute_result"
    }
   ],
   "source": [
    "df.isna().sum() "
   ]
  },
  {
   "cell_type": "code",
   "execution_count": 9,
   "id": "fa502614",
   "metadata": {},
   "outputs": [
    {
     "data": {
      "text/html": [
       "<div>\n",
       "<style scoped>\n",
       "    .dataframe tbody tr th:only-of-type {\n",
       "        vertical-align: middle;\n",
       "    }\n",
       "\n",
       "    .dataframe tbody tr th {\n",
       "        vertical-align: top;\n",
       "    }\n",
       "\n",
       "    .dataframe thead th {\n",
       "        text-align: right;\n",
       "    }\n",
       "</style>\n",
       "<table border=\"1\" class=\"dataframe\">\n",
       "  <thead>\n",
       "    <tr style=\"text-align: right;\">\n",
       "      <th></th>\n",
       "      <th>tau1</th>\n",
       "      <th>tau2</th>\n",
       "      <th>tau3</th>\n",
       "      <th>tau4</th>\n",
       "      <th>p1</th>\n",
       "      <th>p2</th>\n",
       "      <th>p3</th>\n",
       "      <th>p4</th>\n",
       "      <th>g1</th>\n",
       "      <th>g2</th>\n",
       "      <th>g3</th>\n",
       "      <th>g4</th>\n",
       "      <th>stab</th>\n",
       "      <th>stabf</th>\n",
       "    </tr>\n",
       "  </thead>\n",
       "  <tbody>\n",
       "    <tr>\n",
       "      <th>0</th>\n",
       "      <td>2.959060</td>\n",
       "      <td>3.079885</td>\n",
       "      <td>8.381025</td>\n",
       "      <td>9.780754</td>\n",
       "      <td>3.763085</td>\n",
       "      <td>-0.782604</td>\n",
       "      <td>-1.257395</td>\n",
       "      <td>-1.723086</td>\n",
       "      <td>0.650456</td>\n",
       "      <td>0.859578</td>\n",
       "      <td>0.887445</td>\n",
       "      <td>0.958034</td>\n",
       "      <td>0.055347</td>\n",
       "      <td>unstable</td>\n",
       "    </tr>\n",
       "    <tr>\n",
       "      <th>1</th>\n",
       "      <td>9.304097</td>\n",
       "      <td>4.902524</td>\n",
       "      <td>3.047541</td>\n",
       "      <td>1.369357</td>\n",
       "      <td>5.067812</td>\n",
       "      <td>-1.940058</td>\n",
       "      <td>-1.872742</td>\n",
       "      <td>-1.255012</td>\n",
       "      <td>0.413441</td>\n",
       "      <td>0.862414</td>\n",
       "      <td>0.562139</td>\n",
       "      <td>0.781760</td>\n",
       "      <td>-0.005957</td>\n",
       "      <td>stable</td>\n",
       "    </tr>\n",
       "    <tr>\n",
       "      <th>2</th>\n",
       "      <td>8.971707</td>\n",
       "      <td>8.848428</td>\n",
       "      <td>3.046479</td>\n",
       "      <td>1.214518</td>\n",
       "      <td>3.405158</td>\n",
       "      <td>-1.207456</td>\n",
       "      <td>-1.277210</td>\n",
       "      <td>-0.920492</td>\n",
       "      <td>0.163041</td>\n",
       "      <td>0.766689</td>\n",
       "      <td>0.839444</td>\n",
       "      <td>0.109853</td>\n",
       "      <td>0.003471</td>\n",
       "      <td>unstable</td>\n",
       "    </tr>\n",
       "    <tr>\n",
       "      <th>3</th>\n",
       "      <td>0.716415</td>\n",
       "      <td>7.669600</td>\n",
       "      <td>4.486641</td>\n",
       "      <td>2.340563</td>\n",
       "      <td>3.963791</td>\n",
       "      <td>-1.027473</td>\n",
       "      <td>-1.938944</td>\n",
       "      <td>-0.997374</td>\n",
       "      <td>0.446209</td>\n",
       "      <td>0.976744</td>\n",
       "      <td>0.929381</td>\n",
       "      <td>0.362718</td>\n",
       "      <td>0.028871</td>\n",
       "      <td>unstable</td>\n",
       "    </tr>\n",
       "    <tr>\n",
       "      <th>4</th>\n",
       "      <td>3.134112</td>\n",
       "      <td>7.608772</td>\n",
       "      <td>4.943759</td>\n",
       "      <td>9.857573</td>\n",
       "      <td>3.525811</td>\n",
       "      <td>-1.125531</td>\n",
       "      <td>-1.845975</td>\n",
       "      <td>-0.554305</td>\n",
       "      <td>0.797110</td>\n",
       "      <td>0.455450</td>\n",
       "      <td>0.656947</td>\n",
       "      <td>0.820923</td>\n",
       "      <td>0.049860</td>\n",
       "      <td>unstable</td>\n",
       "    </tr>\n",
       "  </tbody>\n",
       "</table>\n",
       "</div>"
      ],
      "text/plain": [
       "       tau1      tau2      tau3      tau4        p1        p2        p3  \\\n",
       "0  2.959060  3.079885  8.381025  9.780754  3.763085 -0.782604 -1.257395   \n",
       "1  9.304097  4.902524  3.047541  1.369357  5.067812 -1.940058 -1.872742   \n",
       "2  8.971707  8.848428  3.046479  1.214518  3.405158 -1.207456 -1.277210   \n",
       "3  0.716415  7.669600  4.486641  2.340563  3.963791 -1.027473 -1.938944   \n",
       "4  3.134112  7.608772  4.943759  9.857573  3.525811 -1.125531 -1.845975   \n",
       "\n",
       "         p4        g1        g2        g3        g4      stab     stabf  \n",
       "0 -1.723086  0.650456  0.859578  0.887445  0.958034  0.055347  unstable  \n",
       "1 -1.255012  0.413441  0.862414  0.562139  0.781760 -0.005957    stable  \n",
       "2 -0.920492  0.163041  0.766689  0.839444  0.109853  0.003471  unstable  \n",
       "3 -0.997374  0.446209  0.976744  0.929381  0.362718  0.028871  unstable  \n",
       "4 -0.554305  0.797110  0.455450  0.656947  0.820923  0.049860  unstable  "
      ]
     },
     "execution_count": 9,
     "metadata": {},
     "output_type": "execute_result"
    }
   ],
   "source": [
    "df.head()"
   ]
  },
  {
   "cell_type": "code",
   "execution_count": 10,
   "id": "7eb730d4",
   "metadata": {},
   "outputs": [
    {
     "data": {
      "text/plain": [
       "unstable    6380\n",
       "stable      3620\n",
       "Name: stabf, dtype: int64"
      ]
     },
     "execution_count": 10,
     "metadata": {},
     "output_type": "execute_result"
    }
   ],
   "source": [
    "#Assigning independent and dependent variables\n",
    "x = df.drop(columns= ['stab','stabf'])\n",
    "y = df['stabf']\n",
    "y.value_counts()"
   ]
  },
  {
   "cell_type": "code",
   "execution_count": 11,
   "id": "f26259e6",
   "metadata": {},
   "outputs": [],
   "source": [
    "#Training\n",
    "from sklearn.model_selection import train_test_split\n",
    "x_train,x_test,y_train,y_test = train_test_split(x,y, random_state = 1, test_size=0.2 )"
   ]
  },
  {
   "cell_type": "code",
   "execution_count": 12,
   "id": "c89e5d72",
   "metadata": {},
   "outputs": [],
   "source": [
    "#Scaling\n",
    "from sklearn.preprocessing import StandardScaler\n",
    "scaler = StandardScaler()\n",
    "x_train_scaled = scaler.fit_transform(x_train)\n",
    "x_train_scaled = pd.DataFrame(x_train_scaled,columns = x_train.columns)\n",
    "x_test_scaled = scaler.transform(x_test)\n",
    "x_test_scaled = pd.DataFrame(x_test_scaled, columns = x_test.columns)\n",
    "     "
   ]
  },
  {
   "cell_type": "code",
   "execution_count": 13,
   "id": "f06da3a7",
   "metadata": {},
   "outputs": [
    {
     "data": {
      "text/plain": [
       "0.929"
      ]
     },
     "execution_count": 13,
     "metadata": {},
     "output_type": "execute_result"
    }
   ],
   "source": [
    "#Using Random Forest Classifier to get accuracy\n",
    "from sklearn.ensemble import RandomForestClassifier\n",
    "classifier = RandomForestClassifier(random_state =1)\n",
    "classifier.fit(x_train_scaled,y_train)\n",
    "forest_pred = classifier.predict(x_test_scaled)\n",
    "     \n",
    "from sklearn.metrics import accuracy_score\n",
    "accuracy = accuracy_score(y_test,forest_pred)\n",
    "round(accuracy,4)"
   ]
  }
 ],
 "metadata": {
  "kernelspec": {
   "display_name": "Python 3 (ipykernel)",
   "language": "python",
   "name": "python3"
  },
  "language_info": {
   "codemirror_mode": {
    "name": "ipython",
    "version": 3
   },
   "file_extension": ".py",
   "mimetype": "text/x-python",
   "name": "python",
   "nbconvert_exporter": "python",
   "pygments_lexer": "ipython3",
   "version": "3.9.13"
  }
 },
 "nbformat": 4,
 "nbformat_minor": 5
}
